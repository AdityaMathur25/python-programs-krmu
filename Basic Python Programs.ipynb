{
 "cells": [
  {
   "cell_type": "code",
   "execution_count": 1,
   "id": "59b0d3e2",
   "metadata": {},
   "outputs": [
    {
     "name": "stdout",
     "output_type": "stream",
     "text": [
      "Enter First number : 12\n",
      "Enter Second number : 22\n",
      "The sum of two numbers is :  34\n"
     ]
    }
   ],
   "source": [
    "#pyton program to add two numbers using function\n",
    "def sum(a,b):\n",
    "    c=a+b\n",
    "    return c\n",
    "a = int(input('Enter First number : '))\n",
    "b = int(input('Enter Second number : '))\n",
    "print(\"The sum of two numbers is : \",sum(a,b))"
   ]
  },
  {
   "cell_type": "code",
   "execution_count": 2,
   "id": "7ae991cf",
   "metadata": {},
   "outputs": [
    {
     "name": "stdout",
     "output_type": "stream",
     "text": [
      "love\n",
      "love python.\n",
      "I love python\n"
     ]
    }
   ],
   "source": [
    "#string slicing\n",
    "my_string = \"I love python.\"\n",
    "print(my_string[2:6])\n",
    "print(my_string[2:])\n",
    "print(my_string[:-1])"
   ]
  },
  {
   "cell_type": "code",
   "execution_count": 3,
   "id": "e4e2f497",
   "metadata": {},
   "outputs": [
    {
     "name": "stdout",
     "output_type": "stream",
     "text": [
      "Enter string : aditya is a good boy\n",
      "Number of vowels in your string :  {'a': 3, 'e': 0, 'i': 2, 'o': 3, 'u': 0}\n"
     ]
    }
   ],
   "source": [
    "# Program to count the number of each vowels\n",
    "\n",
    "vowels = 'aeiou'\n",
    "ip_str = input(\"Enter string : \")\n",
    "ip_str = ip_str.casefold()\n",
    "count = {}.fromkeys(vowels,0)\n",
    "for char in ip_str:\n",
    "   if char in count:\n",
    "       count[char] += 1\n",
    "print(\"Number of vowels in your string : \",count)"
   ]
  },
  {
   "cell_type": "code",
   "execution_count": 7,
   "id": "33ca9dcd",
   "metadata": {},
   "outputs": [
    {
     "name": "stdout",
     "output_type": "stream",
     "text": [
      "Select operation.\n",
      "1.Add\n",
      "2.Subtract\n",
      "3.Multiply\n",
      "4.Divide\n",
      "Enter choice(1/2/3/4): 3\n",
      "Enter first number: 22\n",
      "Enter second number: 53\n",
      "22.0 * 53.0 = 1166.0\n",
      "Let's do next calculation? (yes/no): no\n",
      "Thank you for using our calculator\n"
     ]
    }
   ],
   "source": [
    "#simple calculator in python\n",
    "def add(x, y):\n",
    "    return x + y\n",
    "def subtract(x, y):\n",
    "    return x - y\n",
    "def multiply(x, y):\n",
    "    return x * y\n",
    "def divide(x, y):\n",
    "    return x / y\n",
    "print(\"Select operation.\")\n",
    "print(\"1.Add\")\n",
    "print(\"2.Subtract\")\n",
    "print(\"3.Multiply\")\n",
    "print(\"4.Divide\")\n",
    "while True:\n",
    "    choice = input(\"Enter choice(1/2/3/4): \")\n",
    "    if choice in ('1', '2', '3', '4'):\n",
    "        try:\n",
    "            num1 = float(input(\"Enter first number: \"))\n",
    "            num2 = float(input(\"Enter second number: \"))\n",
    "        except ValueError:\n",
    "            print(\"Invalid input. Please enter a number.\")\n",
    "            continue\n",
    "        if choice == '1':\n",
    "            print(num1, \"+\", num2, \"=\", add(num1, num2))\n",
    "        elif choice == '2':\n",
    "            print(num1, \"-\", num2, \"=\", subtract(num1, num2))\n",
    "        elif choice == '3':\n",
    "            print(num1, \"*\", num2, \"=\", multiply(num1, num2))\n",
    "        elif choice == '4':\n",
    "            print(num1, \"/\", num2, \"=\", divide(num1, num2))\n",
    "        next_calculation = input(\"Let's do next calculation? (yes/no): \")\n",
    "        if next_calculation == \"no\":\n",
    "            print(\"Thank you for using our calculator\")\n",
    "            break\n",
    "    else:\n",
    "        print(\"Invalid Input\")"
   ]
  },
  {
   "cell_type": "code",
   "execution_count": 19,
   "id": "99c950e6",
   "metadata": {},
   "outputs": [
    {
     "name": "stdout",
     "output_type": "stream",
     "text": [
      "Enter year: 2200\n",
      "Enter month: 12\n",
      "\n",
      "    December 2200\n",
      "Mo Tu We Th Fr Sa Su\n",
      " 1  2  3  4  5  6  7\n",
      " 8  9 10 11 12 13 14\n",
      "15 16 17 18 19 20 21\n",
      "22 23 24 25 26 27 28\n",
      "29 30 31\n",
      "\n"
     ]
    }
   ],
   "source": [
    "# Program to display calendar of the given month and year using calender module\n",
    "import calendar\n",
    "import sys\n",
    "yy = int(input(\"Enter year: \"))\n",
    "mm = int(input(\"Enter month: \"))\n",
    "if mm >=13 :\n",
    "    print(\"year must be less than 12\")\n",
    "else:\n",
    "    print(\"\\n\",calendar.month(yy, mm))"
   ]
  },
  {
   "cell_type": "code",
   "execution_count": 20,
   "id": "6de2fe43",
   "metadata": {},
   "outputs": [
    {
     "name": "stdout",
     "output_type": "stream",
     "text": [
      "Enter First number : 22\n",
      "Enter Second number : 22\n",
      "The L.C.M. is 22\n"
     ]
    }
   ],
   "source": [
    "# Python Program to find the L.C.M. of two input number\n",
    "\n",
    "def lcm(x, y):\n",
    "\n",
    "   # choose the greater number\n",
    "   if x > y:\n",
    "       greater = x\n",
    "   else:\n",
    "       greater = y\n",
    "\n",
    "   while(True):\n",
    "       if((greater % x == 0) and (greater % y == 0)):\n",
    "           lcm = greater\n",
    "           break\n",
    "       greater += 1\n",
    "\n",
    "   return lcm\n",
    "\n",
    "num1 = int(input('Enter First number : '))\n",
    "num2 = int(input('Enter Second number : '))\n",
    "\n",
    "print(\"The L.C.M. is\", lcm(num1, num2))"
   ]
  },
  {
   "cell_type": "code",
   "execution_count": 23,
   "id": "2e83c3bf",
   "metadata": {},
   "outputs": [
    {
     "name": "stdout",
     "output_type": "stream",
     "text": [
      "Enter Temprature in Celsius : 35\n",
      "37.5 degree Celsius is equal to 102.5 degree Fahrenheit\n"
     ]
    }
   ],
   "source": [
    "# Python Program to convert temperature in celsius to fahrenheit\n",
    "celsius = float(input(\"Enter Temprature in Celsius : \"))\n",
    "fahrenheit = (celsius * 1.8) + 32\n",
    "print('%0.1f degree Celsius is equal to %0.1f degree Fahrenheit' %(celsius,fahrenheit))"
   ]
  },
  {
   "cell_type": "code",
   "execution_count": null,
   "id": "a4602bb9",
   "metadata": {},
   "outputs": [],
   "source": []
  }
 ],
 "metadata": {
  "kernelspec": {
   "display_name": "Python 3 (ipykernel)",
   "language": "python",
   "name": "python3"
  },
  "language_info": {
   "codemirror_mode": {
    "name": "ipython",
    "version": 3
   },
   "file_extension": ".py",
   "mimetype": "text/x-python",
   "name": "python",
   "nbconvert_exporter": "python",
   "pygments_lexer": "ipython3",
   "version": "3.11.4"
  }
 },
 "nbformat": 4,
 "nbformat_minor": 5
}
