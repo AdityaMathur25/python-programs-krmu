{
 "cells": [
  {
   "cell_type": "code",
   "execution_count": 3,
   "id": "c204b60b",
   "metadata": {},
   "outputs": [
    {
     "name": "stdout",
     "output_type": "stream",
     "text": [
      "Enter First number : 202\n",
      "Enter Second number : 22\n",
      "The sum of two numbers is :  224\n"
     ]
    }
   ],
   "source": [
    "a = int(input('Enter First number : '))\n",
    "b = int(input('Enter Second number : '))\n",
    "c = a+b\n",
    "print(\"The sum of two numbers is : \",c)"
   ]
  }
 ],
 "metadata": {
  "kernelspec": {
   "display_name": "Python 3 (ipykernel)",
   "language": "python",
   "name": "python3"
  },
  "language_info": {
   "codemirror_mode": {
    "name": "ipython",
    "version": 3
   },
   "file_extension": ".py",
   "mimetype": "text/x-python",
   "name": "python",
   "nbconvert_exporter": "python",
   "pygments_lexer": "ipython3",
   "version": "3.11.4"
  }
 },
 "nbformat": 4,
 "nbformat_minor": 5
}
